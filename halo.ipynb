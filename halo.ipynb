{
 "cells": [
  {
   "cell_type": "code",
   "execution_count": 2,
   "metadata": {},
   "outputs": [
    {
     "name": "stdout",
     "output_type": "stream",
     "text": [
      "halo\n"
     ]
    }
   ],
   "source": [
    "print(\"halo\")"
   ]
  },
  {
   "cell_type": "code",
   "execution_count": 3,
   "metadata": {},
   "outputs": [
    {
     "name": "stdout",
     "output_type": "stream",
     "text": [
      "test\n"
     ]
    }
   ],
   "source": [
    "print(\"test\")"
   ]
  },
  {
   "cell_type": "code",
   "execution_count": 4,
   "metadata": {},
   "outputs": [
    {
     "name": "stdout",
     "output_type": "stream",
     "text": [
      "data_science\n"
     ]
    }
   ],
   "source": [
    "print(\"data_science\")"
   ]
  },
  {
   "cell_type": "markdown",
   "metadata": {},
   "source": [
    "# 코딩테스트 연습"
   ]
  },
  {
   "cell_type": "markdown",
   "metadata": {},
   "source": [
    "## 해시"
   ]
  },
  {
   "cell_type": "markdown",
   "metadata": {},
   "source": [
    "### 1. 완주하지 못한 선수"
   ]
  },
  {
   "cell_type": "code",
   "execution_count": 23,
   "metadata": {},
   "outputs": [],
   "source": [
    "participant = ['mislav', 'stanko', 'mislav', 'ana']\n",
    "completion = ['stanko', 'ana', 'mislav']"
   ]
  },
  {
   "cell_type": "code",
   "execution_count": 60,
   "metadata": {},
   "outputs": [],
   "source": [
    "participant = ['leo', 'kiki', 'eden']\n",
    "completion = ['eden', 'kiki']"
   ]
  },
  {
   "cell_type": "code",
   "execution_count": 63,
   "metadata": {},
   "outputs": [],
   "source": [
    "participant = ['marina', 'josipa', 'nikola', 'vinko', 'filipa']\n",
    "completion = ['josipa', 'filipa', 'marina', 'nikola']"
   ]
  },
  {
   "cell_type": "code",
   "execution_count": 64,
   "metadata": {},
   "outputs": [],
   "source": [
    "def solution(participant, completion): \n",
    "    participant.sort()\n",
    "    print(participant)\n",
    "    completion.sort()\n",
    "    print(completion)\n",
    "    \n",
    "    for i, j in zip(participant, completion):\n",
    "        if i != j:\n",
    "            return(i)\n",
    "    return participant[-1]"
   ]
  },
  {
   "cell_type": "code",
   "execution_count": 65,
   "metadata": {},
   "outputs": [
    {
     "name": "stdout",
     "output_type": "stream",
     "text": [
      "['filipa', 'josipa', 'marina', 'nikola', 'vinko']\n",
      "['filipa', 'josipa', 'marina', 'nikola']\n"
     ]
    },
    {
     "data": {
      "text/plain": [
       "'vinko'"
      ]
     },
     "execution_count": 65,
     "metadata": {},
     "output_type": "execute_result"
    }
   ],
   "source": [
    "solution(participant, completion)"
   ]
  },
  {
   "cell_type": "markdown",
   "metadata": {},
   "source": [
    "### 2. 전화번호 목록"
   ]
  },
  {
   "cell_type": "code",
   "execution_count": 70,
   "metadata": {},
   "outputs": [
    {
     "data": {
      "text/plain": [
       "3"
      ]
     },
     "execution_count": 70,
     "metadata": {},
     "output_type": "execute_result"
    }
   ],
   "source": [
    "len(phone_book[0])"
   ]
  },
  {
   "cell_type": "code",
   "execution_count": 147,
   "metadata": {},
   "outputs": [],
   "source": [
    "phone_book = ['119', '97674223', '1195524421']"
   ]
  },
  {
   "cell_type": "code",
   "execution_count": 136,
   "metadata": {},
   "outputs": [],
   "source": [
    "phone_book = ['123', '456', '789']"
   ]
  },
  {
   "cell_type": "code",
   "execution_count": 139,
   "metadata": {},
   "outputs": [],
   "source": [
    "phone_book = ['12', '123', '1234', '567', '88']"
   ]
  },
  {
   "cell_type": "code",
   "execution_count": 140,
   "metadata": {},
   "outputs": [],
   "source": [
    "def solution(phone_book):\n",
    "    \n",
    "    for i in phone_book:\n",
    "        if i == phone_book[0]:\n",
    "            ck = i\n",
    "        elif i.startswith(ck):\n",
    "            answer = False\n",
    "            return answer\n",
    "        else:\n",
    "            answer = True\n",
    "    return answer"
   ]
  },
  {
   "cell_type": "code",
   "execution_count": 148,
   "metadata": {},
   "outputs": [],
   "source": [
    "def solution(phone_book):\n",
    "    phone_book.sort()\n",
    "    for i, j in zip(phone_book, phone_book[1:]):\n",
    "        if j.startswith(i):\n",
    "            return False\n",
    "    return True"
   ]
  },
  {
   "cell_type": "code",
   "execution_count": 149,
   "metadata": {},
   "outputs": [
    {
     "name": "stdout",
     "output_type": "stream",
     "text": [
      "119   1195524421\n"
     ]
    },
    {
     "data": {
      "text/plain": [
       "False"
      ]
     },
     "execution_count": 149,
     "metadata": {},
     "output_type": "execute_result"
    }
   ],
   "source": [
    "solution1(phone_book)"
   ]
  },
  {
   "cell_type": "markdown",
   "metadata": {},
   "source": [
    "### 3. 위장"
   ]
  },
  {
   "cell_type": "code",
   "execution_count": null,
   "metadata": {},
   "outputs": [],
   "source": [
    "def solution(clothes):\n",
    "    answer = 0\n",
    "    return answer"
   ]
  },
  {
   "cell_type": "code",
   "execution_count": null,
   "metadata": {},
   "outputs": [],
   "source": []
  },
  {
   "cell_type": "markdown",
   "metadata": {},
   "source": [
    "## 정렬"
   ]
  },
  {
   "cell_type": "markdown",
   "metadata": {},
   "source": [
    "### 1. K번째 수"
   ]
  },
  {
   "cell_type": "code",
   "execution_count": 248,
   "metadata": {},
   "outputs": [],
   "source": [
    "array = [1, 5, 2, 6, 3, 7, 4]\n",
    "commands = [[2, 5, 3], [4, 4, 1], [1, 7, 3]]"
   ]
  },
  {
   "cell_type": "code",
   "execution_count": 170,
   "metadata": {},
   "outputs": [
    {
     "data": {
      "text/plain": [
       "[5, 2, 6, 3]"
      ]
     },
     "execution_count": 170,
     "metadata": {},
     "output_type": "execute_result"
    }
   ],
   "source": [
    "array[1:5]"
   ]
  },
  {
   "cell_type": "code",
   "execution_count": 171,
   "metadata": {},
   "outputs": [
    {
     "data": {
      "text/plain": [
       "[2, 3, 5, 6]"
      ]
     },
     "execution_count": 171,
     "metadata": {},
     "output_type": "execute_result"
    }
   ],
   "source": [
    "a = array[1:5]\n",
    "a.sort()\n",
    "a"
   ]
  },
  {
   "cell_type": "code",
   "execution_count": 172,
   "metadata": {},
   "outputs": [
    {
     "data": {
      "text/plain": [
       "5"
      ]
     },
     "execution_count": 172,
     "metadata": {},
     "output_type": "execute_result"
    }
   ],
   "source": [
    "a[2]"
   ]
  },
  {
   "cell_type": "code",
   "execution_count": 246,
   "metadata": {},
   "outputs": [],
   "source": [
    "def solution(array, commands):\n",
    "    answer = []\n",
    "    \n",
    "    for i in commands:\n",
    "        print(i[0], i[1], i[2])\n",
    "        a = array[i[0] - 1 : i[1]]\n",
    "        a.sort()\n",
    "        print(a)\n",
    "\n",
    "        answer.append(a[i[2] - 1])\n",
    "    print(answer)"
   ]
  },
  {
   "cell_type": "code",
   "execution_count": 249,
   "metadata": {},
   "outputs": [],
   "source": [
    "def solution(array, commands):\n",
    "    answer = []\n",
    "    \n",
    "    for i in commands:\n",
    "        a = array[i[0] - 1 : i[1]]\n",
    "        a.sort()\n",
    "        answer.append(a[i[2] - 1])\n",
    "    return answer"
   ]
  },
  {
   "cell_type": "code",
   "execution_count": 250,
   "metadata": {},
   "outputs": [
    {
     "data": {
      "text/plain": [
       "[5, 6, 3]"
      ]
     },
     "execution_count": 250,
     "metadata": {},
     "output_type": "execute_result"
    }
   ],
   "source": [
    "solution(array, commands)"
   ]
  },
  {
   "cell_type": "code",
   "execution_count": null,
   "metadata": {},
   "outputs": [],
   "source": [
    "def solution(array, commands):\n",
    "    return list(map(lambda x:sorted(array[x[0]-1:x[1]])[x[2]-1], commands))"
   ]
  },
  {
   "cell_type": "markdown",
   "metadata": {},
   "source": [
    "### 2. 가장 큰 수"
   ]
  },
  {
   "cell_type": "markdown",
   "metadata": {},
   "source": [
    "lambda()\n",
    "g = lambda x:x**2\n",
    "g(8)을 프린트 해주면 64가 나옵니다. 람다는 요런식으로 써줍니다.\n",
    "\n",
    "map()\n",
    "람다 함수의 장점은 map()함수와 함께 사용될 때 볼 수 있습니다.<br>\n",
    "map()은 두개의 인수를 가지는 함수입니다.<br>\n",
    "map(str, numbers)를 해주면 numbers안의 모든 요소들을 str함수를 통해 string형태로 바꿔줍니다.\n",
    "\n",
    "set()\n",
    "집합 자료형; list에서 중복을 빼고 출력해주는 함수"
   ]
  },
  {
   "cell_type": "code",
   "execution_count": 321,
   "metadata": {},
   "outputs": [],
   "source": [
    "numbers = [0, 0, 0]"
   ]
  },
  {
   "cell_type": "code",
   "execution_count": 334,
   "metadata": {},
   "outputs": [],
   "source": [
    "numbers = [3, 30, 34, 5, 9]"
   ]
  },
  {
   "cell_type": "code",
   "execution_count": 330,
   "metadata": {},
   "outputs": [],
   "source": [
    "def solution(numbers):\n",
    "    numbers = list(map(str, numbers))\n",
    "    numbers.sort(key = lambda x : x * 3, reverse = True)\n",
    "    if sum(list(map(int, numbers))) == 0:\n",
    "        numbers = list(set(numbers))\n",
    "    return \"\".join(numbers)"
   ]
  },
  {
   "cell_type": "code",
   "execution_count": 336,
   "metadata": {},
   "outputs": [],
   "source": [
    "def solution(numbers):\n",
    "    numbers = list(map(str, numbers))\n",
    "    numbers.sort(key = lambda x : x * 3, reverse = True)\n",
    "\n",
    "    return str(int(\"\".join(numbers)))"
   ]
  },
  {
   "cell_type": "code",
   "execution_count": 337,
   "metadata": {},
   "outputs": [
    {
     "data": {
      "text/plain": [
       "'9534330'"
      ]
     },
     "execution_count": 337,
     "metadata": {},
     "output_type": "execute_result"
    }
   ],
   "source": [
    "solution(numbers)"
   ]
  },
  {
   "cell_type": "code",
   "execution_count": null,
   "metadata": {},
   "outputs": [],
   "source": []
  },
  {
   "cell_type": "code",
   "execution_count": null,
   "metadata": {},
   "outputs": [],
   "source": []
  },
  {
   "cell_type": "markdown",
   "metadata": {},
   "source": [
    "# 코딩테스트"
   ]
  },
  {
   "cell_type": "markdown",
   "metadata": {},
   "source": [
    "## 프로그래밍 1"
   ]
  },
  {
   "cell_type": "code",
   "execution_count": 66,
   "metadata": {},
   "outputs": [],
   "source": [
    "import numpy as np"
   ]
  },
  {
   "cell_type": "code",
   "execution_count": 89,
   "metadata": {},
   "outputs": [],
   "source": [
    "a = np.array([[1, 2, 3],\n",
    "             [4, 5, 6],\n",
    "             [7, 8, 9],\n",
    "             [11, 0, 11]])"
   ]
  },
  {
   "cell_type": "code",
   "execution_count": 91,
   "metadata": {},
   "outputs": [
    {
     "data": {
      "text/plain": [
       "array([[0, 1]])"
      ]
     },
     "execution_count": 91,
     "metadata": {},
     "output_type": "execute_result"
    }
   ],
   "source": [
    "np.argwhere(a == 2)"
   ]
  },
  {
   "cell_type": "code",
   "execution_count": 94,
   "metadata": {},
   "outputs": [
    {
     "data": {
      "text/plain": [
       "1.4142135623730951"
      ]
     },
     "execution_count": 94,
     "metadata": {},
     "output_type": "execute_result"
    }
   ],
   "source": [
    "first = np.argwhere(a == 5)\n",
    "two = np.argwhere(a == 3)\n",
    "np.linalg.norm(first - two)"
   ]
  },
  {
   "cell_type": "code",
   "execution_count": 93,
   "metadata": {},
   "outputs": [
    {
     "data": {
      "text/plain": [
       "1.0"
      ]
     },
     "execution_count": 93,
     "metadata": {},
     "output_type": "execute_result"
    }
   ],
   "source": [
    "first = np.argwhere(a == 5)\n",
    "two = np.argwhere(a == 4)\n",
    "np.linalg.norm(first - two)"
   ]
  },
  {
   "cell_type": "code",
   "execution_count": 215,
   "metadata": {},
   "outputs": [],
   "source": [
    "numbers = [2, 5, 0, 2, 8, 3, 1, 5, 7, 6, 2]\n",
    "hands = 'left'"
   ]
  },
  {
   "cell_type": "code",
   "execution_count": 218,
   "metadata": {},
   "outputs": [
    {
     "name": "stdout",
     "output_type": "stream",
     "text": [
      "numbers :  2  L\n",
      "numbers :  5  L\n",
      "numbers :  0  R\n",
      "numbers :  2  L\n",
      "numbers :  8  R\n",
      "numbers :  3  R\n",
      "numbers :  1  L\n",
      "numbers :  5  L\n",
      "numbers :  7  L\n",
      "numbers :  6  R\n",
      "numbers :  2  R\n",
      "LLRLRRLLLRR\n"
     ]
    }
   ],
   "source": [
    "answer = []\n",
    "\n",
    "left = [1, 4, 7, 11]\n",
    "right = [3, 6, 9, 12]\n",
    "\n",
    "phone = np.array([[1, 2, 3],\n",
    "                  [4, 5, 6],\n",
    "                  [7, 8, 9],\n",
    "                  [11, 0, 12]])\n",
    "\n",
    "def dist(i, l):\n",
    "    input_key = np.argwhere(phone == i)\n",
    "    location = np.argwhere(phone == l)  \n",
    "    return abs(np.linalg.norm(input_key - location))\n",
    "\n",
    "current_l = 11\n",
    "current_r = 12\n",
    "\n",
    "for i in numbers:    \n",
    "    if i in left:\n",
    "        print('numbers : ', i, ' L')\n",
    "        current_l = i\n",
    "        answer.append('L')\n",
    "    elif i in right:\n",
    "        print('numbers : ', i, ' R')\n",
    "        current_r = i\n",
    "        answer.append('R')\n",
    "    else:\n",
    "        if dist(i, current_l) < dist(i, current_r):\n",
    "            print('numbers : ', i, ' L')\n",
    "            current_l = i\n",
    "            answer.append('L')\n",
    "        elif dist(i, current_l) == dist(i, current_r):\n",
    "            if hands == 'right':\n",
    "                print('numbers : ', i, ' R')\n",
    "                current_r = i\n",
    "                answer.append('R')\n",
    "            else:\n",
    "                print('numbers : ', i, ' L')\n",
    "                current_l = i\n",
    "                answer.append('L')\n",
    "        else:\n",
    "            print('numbers : ', i, ' R')\n",
    "            current_r = i\n",
    "            answer.append('R')\n",
    "            \n",
    "print(\"\".join(answer))\n",
    "            "
   ]
  },
  {
   "cell_type": "markdown",
   "metadata": {},
   "source": [
    "## 프로그래밍 2"
   ]
  },
  {
   "cell_type": "code",
   "execution_count": 143,
   "metadata": {},
   "outputs": [],
   "source": [
    "expression = '100-200*300-500+20'"
   ]
  },
  {
   "cell_type": "code",
   "execution_count": 139,
   "metadata": {},
   "outputs": [
    {
     "data": {
      "text/plain": [
       "-60380"
      ]
     },
     "execution_count": 139,
     "metadata": {},
     "output_type": "execute_result"
    }
   ],
   "source": [
    "100-200*300-500+20"
   ]
  },
  {
   "cell_type": "code",
   "execution_count": 148,
   "metadata": {},
   "outputs": [
    {
     "name": "stdout",
     "output_type": "stream",
     "text": [
      "7\n"
     ]
    }
   ],
   "source": [
    "if '*' in expression:\n",
    "    print(expression.find('*'))"
   ]
  },
  {
   "cell_type": "code",
   "execution_count": null,
   "metadata": {},
   "outputs": [],
   "source": []
  },
  {
   "cell_type": "markdown",
   "metadata": {},
   "source": [
    "## 프로그래밍 3"
   ]
  },
  {
   "cell_type": "code",
   "execution_count": 168,
   "metadata": {},
   "outputs": [],
   "source": [
    "gems1 = [\"DIA\", \"RUBY\", \"RUBY\", \"DIA\", \"DIA\", \"EMERALD\", \"SAPPHIRE\", \"DIA\"]\n",
    "gems2 = [\"AA\", \"AB\", \"AC\", \"AA\", \"AC\"]\n",
    "gems3 = [\"XYZ\", \"XYZ\", \"XYZ\"]\n",
    "gems4 = [\"ZZZ\", \"YYY\", \"NNNN\", \"YYY\", \"BBB\"]"
   ]
  },
  {
   "cell_type": "code",
   "execution_count": 169,
   "metadata": {},
   "outputs": [
    {
     "data": {
      "text/plain": [
       "{'DIA', 'EMERALD', 'RUBY', 'SAPPHIRE'}"
      ]
     },
     "execution_count": 169,
     "metadata": {},
     "output_type": "execute_result"
    }
   ],
   "source": [
    "gems_buy1 = set(gems1)\n",
    "gems_buy1"
   ]
  },
  {
   "cell_type": "code",
   "execution_count": 170,
   "metadata": {},
   "outputs": [
    {
     "data": {
      "text/plain": [
       "{'AA', 'AB', 'AC'}"
      ]
     },
     "execution_count": 170,
     "metadata": {},
     "output_type": "execute_result"
    }
   ],
   "source": [
    "gems_buy2 = set(gems2)\n",
    "gems_buy2"
   ]
  },
  {
   "cell_type": "code",
   "execution_count": 171,
   "metadata": {},
   "outputs": [
    {
     "data": {
      "text/plain": [
       "{'XYZ'}"
      ]
     },
     "execution_count": 171,
     "metadata": {},
     "output_type": "execute_result"
    }
   ],
   "source": [
    "gems_buy3 = set(gems3)\n",
    "gems_buy3"
   ]
  },
  {
   "cell_type": "code",
   "execution_count": 172,
   "metadata": {},
   "outputs": [
    {
     "data": {
      "text/plain": [
       "{'BBB', 'NNNN', 'YYY', 'ZZZ'}"
      ]
     },
     "execution_count": 172,
     "metadata": {},
     "output_type": "execute_result"
    }
   ],
   "source": [
    "gems_buy4 = set(gems4)\n",
    "gems_buy4"
   ]
  },
  {
   "cell_type": "code",
   "execution_count": 182,
   "metadata": {},
   "outputs": [],
   "source": [
    "gems1 = [\"DIA\", \"RUBY\", \"RUBY\", \"DIA\", \"DIA\", \"EMERALD\", \"SAPPHIRE\", \"DIA\"]"
   ]
  },
  {
   "cell_type": "code",
   "execution_count": 186,
   "metadata": {},
   "outputs": [
    {
     "data": {
      "text/plain": [
       "{'DIA', 'EMERALD', 'RUBY', 'SAPPHIRE'}"
      ]
     },
     "execution_count": 186,
     "metadata": {},
     "output_type": "execute_result"
    }
   ],
   "source": [
    "gems_buy1"
   ]
  },
  {
   "cell_type": "code",
   "execution_count": 191,
   "metadata": {},
   "outputs": [
    {
     "name": "stdout",
     "output_type": "stream",
     "text": [
      "(0, 'DIA')\n",
      "(1, 'RUBY')\n",
      "(2, 'RUBY')\n",
      "(3, 'DIA')\n",
      "(4, 'DIA')\n",
      "(5, 'EMERALD')\n",
      "(6, 'SAPPHIRE')\n",
      "(7, 'DIA')\n"
     ]
    }
   ],
   "source": [
    "for i in enumerate(gems1):\n",
    "    print(i)"
   ]
  },
  {
   "cell_type": "code",
   "execution_count": null,
   "metadata": {},
   "outputs": [],
   "source": []
  },
  {
   "cell_type": "code",
   "execution_count": null,
   "metadata": {},
   "outputs": [],
   "source": []
  },
  {
   "cell_type": "code",
   "execution_count": null,
   "metadata": {},
   "outputs": [],
   "source": []
  },
  {
   "cell_type": "code",
   "execution_count": null,
   "metadata": {},
   "outputs": [],
   "source": []
  },
  {
   "cell_type": "code",
   "execution_count": null,
   "metadata": {},
   "outputs": [],
   "source": []
  }
 ],
 "metadata": {
  "kernelspec": {
   "display_name": "Python 3",
   "language": "python",
   "name": "python3"
  },
  "language_info": {
   "codemirror_mode": {
    "name": "ipython",
    "version": 3
   },
   "file_extension": ".py",
   "mimetype": "text/x-python",
   "name": "python",
   "nbconvert_exporter": "python",
   "pygments_lexer": "ipython3",
   "version": "3.7.3"
  }
 },
 "nbformat": 4,
 "nbformat_minor": 2
}
